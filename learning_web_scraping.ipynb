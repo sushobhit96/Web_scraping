{
 "cells": [
  {
   "cell_type": "code",
   "execution_count": 1,
   "id": "4a8f213f",
   "metadata": {},
   "outputs": [],
   "source": [
    "#importing the library\n",
    "from bs4 import BeautifulSoup"
   ]
  },
  {
   "cell_type": "code",
   "execution_count": 4,
   "id": "2f9688b5",
   "metadata": {},
   "outputs": [],
   "source": [
    "#opening the file and creating the soup\n",
    "with open(\"C:\\\\Users\\\\HP\\\\Desktop\\\\doc.html\") as x:\n",
    "    soup= BeautifulSoup(x, \"html.parser\")"
   ]
  },
  {
   "cell_type": "code",
   "execution_count": 12,
   "id": "3fb35abb",
   "metadata": {},
   "outputs": [
    {
     "name": "stdout",
     "output_type": "stream",
     "text": [
      "<html>\n",
      "<head>\n",
      "<title>Head's title</title>\n",
      "</head>\n",
      "<body>\n",
      "<p class=\"title\"><b>Body's title</b></p>\n",
      "<p class=\"story\">Line begins\n",
      "    <a class=\"element\" href=\"http://example.com/element1\" id=\"link1\">1</a>\n",
      "<a class=\"element\" href=\"http://example.com/element2\" id=\"link2\">2</a>\n",
      "<a class=\"avatar\" href=\"http://example.com/avatar1\" id=\"link3\">3</a>\n",
      "<p> line ends</p>\n",
      "</p></body>\n",
      "</html>\n"
     ]
    }
   ],
   "source": [
    "#contents of the file\n",
    "print(soup)"
   ]
  },
  {
   "cell_type": "code",
   "execution_count": 9,
   "id": "4db5874d",
   "metadata": {},
   "outputs": [],
   "source": [
    "#now navigating through individual tags"
   ]
  },
  {
   "cell_type": "code",
   "execution_count": 6,
   "id": "adccc4ce",
   "metadata": {},
   "outputs": [
    {
     "data": {
      "text/plain": [
       "<title>Head's title</title>"
      ]
     },
     "execution_count": 6,
     "metadata": {},
     "output_type": "execute_result"
    }
   ],
   "source": [
    "#get the title tag\n",
    "soup.head.title"
   ]
  },
  {
   "cell_type": "code",
   "execution_count": 7,
   "id": "4b1be288",
   "metadata": {},
   "outputs": [
    {
     "data": {
      "text/plain": [
       "'1'"
      ]
     },
     "execution_count": 7,
     "metadata": {},
     "output_type": "execute_result"
    }
   ],
   "source": [
    "soup.body.a.text"
   ]
  },
  {
   "cell_type": "code",
   "execution_count": 13,
   "id": "3273714c",
   "metadata": {},
   "outputs": [
    {
     "data": {
      "text/plain": [
       "<b>Body's title</b>"
      ]
     },
     "execution_count": 13,
     "metadata": {},
     "output_type": "execute_result"
    }
   ],
   "source": [
    "#To get the title within the HTML's body tag (denoted by the \"title\" class)\n",
    "soup.body.p.b"
   ]
  },
  {
   "cell_type": "code",
   "execution_count": 14,
   "id": "d7bdaee9",
   "metadata": {},
   "outputs": [
    {
     "data": {
      "text/plain": [
       "[<a class=\"element\" href=\"http://example.com/element1\" id=\"link1\">1</a>,\n",
       " <a class=\"element\" href=\"http://example.com/element2\" id=\"link2\">2</a>,\n",
       " <a class=\"avatar\" href=\"http://example.com/avatar1\" id=\"link3\">3</a>]"
      ]
     },
     "execution_count": 14,
     "metadata": {},
     "output_type": "execute_result"
    }
   ],
   "source": [
    "#searching all the instances of a particular tag\n",
    "soup.find_all(\"a\")\n",
    "#the find_all function takes the tag arguement as a string\n",
    "# here we see the list of a tags as output"
   ]
  },
  {
   "cell_type": "code",
   "execution_count": 16,
   "id": "a58d4438",
   "metadata": {},
   "outputs": [
    {
     "data": {
      "text/plain": [
       "[<p class=\"title\"><b>Body's title</b></p>,\n",
       " <p class=\"story\">Line begins\n",
       "     <a class=\"element\" href=\"http://example.com/element1\" id=\"link1\">1</a>\n",
       " <a class=\"element\" href=\"http://example.com/element2\" id=\"link2\">2</a>\n",
       " <a class=\"avatar\" href=\"http://example.com/avatar1\" id=\"link3\">3</a>\n",
       " <p> line ends</p>\n",
       " </p>,\n",
       " <p> line ends</p>]"
      ]
     },
     "execution_count": 16,
     "metadata": {},
     "output_type": "execute_result"
    }
   ],
   "source": [
    "soup.find_all(\"p\")\n",
    "# all p tags"
   ]
  },
  {
   "cell_type": "code",
   "execution_count": 17,
   "id": "45b6694e",
   "metadata": {},
   "outputs": [
    {
     "data": {
      "text/plain": [
       "[<b>Body's title</b>]"
      ]
     },
     "execution_count": 17,
     "metadata": {},
     "output_type": "execute_result"
    }
   ],
   "source": [
    "soup.find_all(\"b\")\n",
    "# all b tags"
   ]
  },
  {
   "cell_type": "code",
   "execution_count": 18,
   "id": "d6305ca2",
   "metadata": {},
   "outputs": [
    {
     "data": {
      "text/plain": [
       "[<a class=\"element\" href=\"http://example.com/element1\" id=\"link1\">1</a>,\n",
       " <a class=\"element\" href=\"http://example.com/element2\" id=\"link2\">2</a>]"
      ]
     },
     "execution_count": 18,
     "metadata": {},
     "output_type": "execute_result"
    }
   ],
   "source": [
    "# finding a specific tag by specifying a class\n",
    "# we use _class instead of class because class is a reserved keyword in python\n",
    "soup.find_all(\"a\", class_=\"element\")"
   ]
  },
  {
   "cell_type": "code",
   "execution_count": 19,
   "id": "fdf3a541",
   "metadata": {},
   "outputs": [
    {
     "data": {
      "text/plain": [
       "<a class=\"avatar\" href=\"http://example.com/avatar1\" id=\"link3\">3</a>"
      ]
     },
     "execution_count": 19,
     "metadata": {},
     "output_type": "execute_result"
    }
   ],
   "source": [
    "soup.find(\"a\",class_=\"avatar\")"
   ]
  },
  {
   "cell_type": "code",
   "execution_count": 24,
   "id": "c73b7a28",
   "metadata": {},
   "outputs": [
    {
     "data": {
      "text/plain": [
       "<a class=\"element\" href=\"http://example.com/element1\" id=\"link1\">1</a>"
      ]
     },
     "execution_count": 24,
     "metadata": {},
     "output_type": "execute_result"
    }
   ],
   "source": [
    "# the find() function returns the first matching item instead of a list\n",
    "soup.find(\"a\",href=True)"
   ]
  },
  {
   "cell_type": "code",
   "execution_count": 25,
   "id": "77563c54",
   "metadata": {},
   "outputs": [
    {
     "data": {
      "text/plain": [
       "'http://example.com/element1'"
      ]
     },
     "execution_count": 25,
     "metadata": {},
     "output_type": "execute_result"
    }
   ],
   "source": [
    "soup.find(\"a\",href=True)[\"href\"]\n",
    "# retrieving the href attribute of the link"
   ]
  },
  {
   "cell_type": "code",
   "execution_count": 29,
   "id": "4f99aee3",
   "metadata": {},
   "outputs": [
    {
     "data": {
      "text/plain": [
       "\"\\n\\nHead's title\\n\\n\\nBody's title\\nLine begins\\n    1\\n2\\n3\\n line ends\\n\\n\""
      ]
     },
     "execution_count": 29,
     "metadata": {},
     "output_type": "execute_result"
    }
   ],
   "source": [
    "# getting the whole text\n",
    "soup.get_text()\n",
    "# \\n with new line character"
   ]
  },
  {
   "cell_type": "code",
   "execution_count": 33,
   "id": "3b9aca9a",
   "metadata": {},
   "outputs": [
    {
     "name": "stdout",
     "output_type": "stream",
     "text": [
      "\n",
      "\n",
      "Head's title\n",
      "\n",
      "\n",
      "Body's title\n",
      "Line begins\n",
      "    1\n",
      "2\n",
      "3\n",
      " line ends\n",
      "\n",
      "\n"
     ]
    }
   ],
   "source": [
    "print(soup.get_text())"
   ]
  },
  {
   "cell_type": "code",
   "execution_count": null,
   "id": "e3745280",
   "metadata": {},
   "outputs": [],
   "source": [
    " "
   ]
  },
  {
   "cell_type": "code",
   "execution_count": null,
   "id": "8d4489bf",
   "metadata": {},
   "outputs": [],
   "source": []
  }
 ],
 "metadata": {
  "kernelspec": {
   "display_name": "Python 3 (ipykernel)",
   "language": "python",
   "name": "python3"
  },
  "language_info": {
   "codemirror_mode": {
    "name": "ipython",
    "version": 3
   },
   "file_extension": ".py",
   "mimetype": "text/x-python",
   "name": "python",
   "nbconvert_exporter": "python",
   "pygments_lexer": "ipython3",
   "version": "3.11.5"
  }
 },
 "nbformat": 4,
 "nbformat_minor": 5
}
